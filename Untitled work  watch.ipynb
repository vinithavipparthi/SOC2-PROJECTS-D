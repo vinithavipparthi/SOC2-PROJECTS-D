{
 "cells": [
  {
   "cell_type": "code",
   "execution_count": 1,
   "id": "7b0a9d14",
   "metadata": {},
   "outputs": [],
   "source": [
    "import pandas as pd\n",
    "import selenium as se\n",
    "from selenium import webdriver \n",
    "from selenium.webdriver.chrome.options import Options\n",
    "from selenium.webdriver.common.by import By\n",
    "from selenium.webdriver.common.keys import Keys\n",
    "from webdriver_manager.chrome import ChromeDriverManager\n",
    "import pandas as pd "
   ]
  },
  {
   "cell_type": "code",
   "execution_count": 2,
   "id": "09c88f5d",
   "metadata": {},
   "outputs": [],
   "source": [
    "import requests\n",
    "from bs4 import BeautifulSoup\n",
    "import csv"
   ]
  },
  {
   "cell_type": "code",
   "execution_count": 3,
   "id": "e2f54b4b",
   "metadata": {},
   "outputs": [],
   "source": [
    "#define options and set browser capabilities\n",
    "options=webdriver.ChromeOptions()\n",
    "options.add_argument('- -some options')"
   ]
  },
  {
   "cell_type": "code",
   "execution_count": 4,
   "id": "08eca5d3",
   "metadata": {},
   "outputs": [],
   "source": [
    "#create webdriver instance with options \n",
    "driver=webdriver.Chrome(options=options)"
   ]
  },
  {
   "cell_type": "code",
   "execution_count": 5,
   "id": "d2b83157",
   "metadata": {},
   "outputs": [],
   "source": [
    "driver.get('https://www.myntra.com/')"
   ]
  },
  {
   "cell_type": "code",
   "execution_count": 6,
   "id": "74a748e4",
   "metadata": {},
   "outputs": [],
   "source": [
    "search=driver.find_element(By.XPATH,\".//input[@class='desktop-searchBar']\")"
   ]
  },
  {
   "cell_type": "code",
   "execution_count": 7,
   "id": "0ebdaa93",
   "metadata": {},
   "outputs": [],
   "source": [
    "search.send_keys(\"Smart Watches\")"
   ]
  },
  {
   "cell_type": "code",
   "execution_count": 8,
   "id": "01bcf176",
   "metadata": {},
   "outputs": [],
   "source": [
    "search.send_keys(Keys.ENTER)"
   ]
  },
  {
   "cell_type": "code",
   "execution_count": 62,
   "id": "b0e28068",
   "metadata": {},
   "outputs": [
    {
     "name": "stdout",
     "output_type": "stream",
     "text": [
      "['pebble', 'Fire-Boltt', 'pebble', 'NOISE', 'boAt', 'pebble', 'pebble', 'boAt', 'pebble', 'Fire-Boltt', 'Fire-Boltt', 'boAt', 'pebble', 'Fire-Boltt', 'boAt', 'CMF by Nothing', 'NOISE', 'Fire-Boltt', 'NOISE', 'Fire-Boltt', 'boAt', 'pebble', 'Fire-Boltt', 'NOISE', 'Fire-Boltt', 'boAt', 'Fire-Boltt', 'boAt', 'HAMMER', 'NOISE', 'Fire-Boltt', 'pebble', 'Fire-Boltt', 'NOISE', 'Fire-Boltt', 'NOISE', 'pebble', 'NOISE', 'pebble', 'NOISE', 'boAt', 'Fire-Boltt', 'boAt', 'Boult', 'boAt', 'Fastrack', 'NOISE', 'Fire-Boltt', 'boAt', 'Timex']\n"
     ]
    }
   ],
   "source": [
    "brand=driver.find_elements(By.XPATH,\".//h3[@class='product-brand']\")\n",
    "brands=[i.text for i in brand]\n",
    "print(brands)"
   ]
  },
  {
   "cell_type": "code",
   "execution_count": 63,
   "id": "7e776dd2",
   "metadata": {},
   "outputs": [
    {
     "name": "stdout",
     "output_type": "stream",
     "text": [
      "['Celia 1.32\" Display SmartWatch', 'Starlight Bluetooth Smartwatch', 'Women 1.27\" Smart Watch', 'Fit Posh Smartwatch', 'Ultima Prism Smart Watch', 'Cosmos Quest Smartwatch', 'Cosmos Ultra 1.91\" BT Calling Smartwatch', 'Unisex Wave Genesis Smartwatch', 'Women 1.27\" Smart Watch', 'Hulk 1.78 inch Smartwatch', 'Eclipse Luxe 1.43\" Amoled', 'Ultima BT Calling Smartwatch', 'Cosmos Ultra 1.91\" BT Calling Smartwatch', 'Hurricane Smartwatch', 'Unisex Ultima Prism Smartwatch', 'Watch Pro', 'Fit Posh Smartwatch', 'Eclipse Luxe 1.43\" Amoled', 'Mettle EliteEdition Smartwatch', 'Rock AMOLED Display Smartwatch', 'Lunar Connect Ace', 'Celia 1.32\" Display SmartWatch', 'Aura BT Calling Smartwatch', 'ColorFit Icon 2 Smartwatch', 'Crusader Amoled 1.43BT Calling', 'Storm Plus AMOLED Smart Watch', 'Hurricane Smartwatch', 'Unisex Wave Genesis Smartwatch', 'Unisex Pulse 2.0 Smart Watch', 'NoiseFit Evolve 3 Smartwatch', 'Hulk 1.78 inch Smartwatch', 'Hive 1.39\" Display Smart Watch', 'Hurricane Smartwatch', 'ColorFit Icon 2 Smartwatch', 'Cobra AMOLED Smart Watch', 'ColorFit Pro 5 Smartwatch', 'Cosmos Ultra 1.91\" BT Calling Smartwatch', 'Color Fit Loop Smartwatch', 'BT Calling Luxury Smartwatch', 'Fit Posh Smartwatch', 'Unisex Ultima Prism Smartwatch', 'Commando BT Calling Smartwatch', 'Lunar Mirage Smartwatch', 'Striker Pro Smart Watch', 'Enigma Z40 Smartwatch', 'FS2 BT Calling Smartwatch', 'ColorFit Vision 3 Smartwatch', 'Supernova Bluetooth SmartWatch', 'Enigma X400 Smartwatch', 'iConnect Gen+ Smart Watch']\n"
     ]
    }
   ],
   "source": [
    "product=driver.find_elements(By.XPATH,\".//h4[@class='product-product']\")\n",
    "product=[i.text for i in product]\n",
    "print(product)"
   ]
  },
  {
   "cell_type": "code",
   "execution_count": 64,
   "id": "b2cef0da",
   "metadata": {},
   "outputs": [
    {
     "name": "stdout",
     "output_type": "stream",
     "text": [
      "['Rs. 1599', 'Rs. 2299', 'Rs. 1799', 'Rs. 2349', 'Rs. 2499', 'Rs. 1599', 'Rs. 1899', 'Rs. 2299', 'Rs. 1799', 'Rs. 1799', 'Rs. 1899', 'Rs. 1599', 'Rs. 1700', 'Rs. 2349', 'Rs. 3499', 'Rs. 1799', 'Rs. 1999', 'Rs. 2249', 'Rs. 3199', 'Rs. 1999', 'Rs. 2299', 'Rs. 1999', 'Rs. 1799', 'Rs. 1899', 'Rs. 1899', 'Rs. 1850', 'Rs. 1899', 'Rs. 1849', 'Rs. 2449', 'Rs. 1799', 'Rs. 1699', 'Rs. 1899', 'Rs. 1799', 'Rs. 1899', 'Rs. 3999', 'Rs. 1599', 'Rs. 2499', 'Rs. 1999', 'Rs. 1799', 'Rs. 2599', 'Rs. 2499', 'Rs. 1599', 'Rs. 2499', 'Rs. 4799', 'Rs. 1999', 'Rs. 3499', 'Rs. 1899', 'Rs. 4899', 'Rs. 2527']\n"
     ]
    }
   ],
   "source": [
    "price=driver.find_elements(By.XPATH,\".//span[@class='product-discountedPrice']\")\n",
    "price=[i.text for i in price]\n",
    "print(price)"
   ]
  },
  {
   "cell_type": "code",
   "execution_count": 73,
   "id": "337e726f",
   "metadata": {},
   "outputs": [
    {
     "data": {
      "text/html": [
       "<div>\n",
       "<style scoped>\n",
       "    .dataframe tbody tr th:only-of-type {\n",
       "        vertical-align: middle;\n",
       "    }\n",
       "\n",
       "    .dataframe tbody tr th {\n",
       "        vertical-align: top;\n",
       "    }\n",
       "\n",
       "    .dataframe thead th {\n",
       "        text-align: right;\n",
       "    }\n",
       "</style>\n",
       "<table border=\"1\" class=\"dataframe\">\n",
       "  <thead>\n",
       "    <tr style=\"text-align: right;\">\n",
       "      <th></th>\n",
       "      <th>Brands</th>\n",
       "      <th>Desc</th>\n",
       "      <th>price</th>\n",
       "    </tr>\n",
       "  </thead>\n",
       "  <tbody>\n",
       "  </tbody>\n",
       "</table>\n",
       "</div>"
      ],
      "text/plain": [
       "Empty DataFrame\n",
       "Columns: [Brands, Desc, price]\n",
       "Index: []"
      ]
     },
     "execution_count": 73,
     "metadata": {},
     "output_type": "execute_result"
    }
   ],
   "source": [
    "df=pd.DataFrame(columns=[\"Brands\",\"Desc\",\"price\"])\n",
    "df"
   ]
  },
  {
   "cell_type": "code",
   "execution_count": 74,
   "id": "e459252e",
   "metadata": {},
   "outputs": [
    {
     "data": {
      "text/html": [
       "<div>\n",
       "<style scoped>\n",
       "    .dataframe tbody tr th:only-of-type {\n",
       "        vertical-align: middle;\n",
       "    }\n",
       "\n",
       "    .dataframe tbody tr th {\n",
       "        vertical-align: top;\n",
       "    }\n",
       "\n",
       "    .dataframe thead th {\n",
       "        text-align: right;\n",
       "    }\n",
       "</style>\n",
       "<table border=\"1\" class=\"dataframe\">\n",
       "  <thead>\n",
       "    <tr style=\"text-align: right;\">\n",
       "      <th></th>\n",
       "      <th>Brands</th>\n",
       "      <th>Desc</th>\n",
       "      <th>price</th>\n",
       "    </tr>\n",
       "  </thead>\n",
       "  <tbody>\n",
       "    <tr>\n",
       "      <th>0</th>\n",
       "      <td>pebble</td>\n",
       "      <td>Celia 1.32\" Display SmartWatch</td>\n",
       "      <td>Rs. 1599</td>\n",
       "    </tr>\n",
       "    <tr>\n",
       "      <th>1</th>\n",
       "      <td>Fire-Boltt</td>\n",
       "      <td>Starlight Bluetooth Smartwatch</td>\n",
       "      <td>Rs. 2299</td>\n",
       "    </tr>\n",
       "    <tr>\n",
       "      <th>2</th>\n",
       "      <td>pebble</td>\n",
       "      <td>Women 1.27\" Smart Watch</td>\n",
       "      <td>Rs. 1799</td>\n",
       "    </tr>\n",
       "    <tr>\n",
       "      <th>3</th>\n",
       "      <td>NOISE</td>\n",
       "      <td>Fit Posh Smartwatch</td>\n",
       "      <td>Rs. 2349</td>\n",
       "    </tr>\n",
       "    <tr>\n",
       "      <th>4</th>\n",
       "      <td>boAt</td>\n",
       "      <td>Ultima Prism Smart Watch</td>\n",
       "      <td>Rs. 2499</td>\n",
       "    </tr>\n",
       "    <tr>\n",
       "      <th>5</th>\n",
       "      <td>pebble</td>\n",
       "      <td>Cosmos Quest Smartwatch</td>\n",
       "      <td>Rs. 1599</td>\n",
       "    </tr>\n",
       "    <tr>\n",
       "      <th>6</th>\n",
       "      <td>pebble</td>\n",
       "      <td>Cosmos Ultra 1.91\" BT Calling Smartwatch</td>\n",
       "      <td>Rs. 1899</td>\n",
       "    </tr>\n",
       "    <tr>\n",
       "      <th>7</th>\n",
       "      <td>boAt</td>\n",
       "      <td>Unisex Wave Genesis Smartwatch</td>\n",
       "      <td>Rs. 2299</td>\n",
       "    </tr>\n",
       "    <tr>\n",
       "      <th>8</th>\n",
       "      <td>pebble</td>\n",
       "      <td>Women 1.27\" Smart Watch</td>\n",
       "      <td>Rs. 1799</td>\n",
       "    </tr>\n",
       "    <tr>\n",
       "      <th>9</th>\n",
       "      <td>Fire-Boltt</td>\n",
       "      <td>Hulk 1.78 inch Smartwatch</td>\n",
       "      <td>Rs. 1799</td>\n",
       "    </tr>\n",
       "    <tr>\n",
       "      <th>10</th>\n",
       "      <td>Fire-Boltt</td>\n",
       "      <td>Eclipse Luxe 1.43\" Amoled</td>\n",
       "      <td>Rs. 1899</td>\n",
       "    </tr>\n",
       "    <tr>\n",
       "      <th>11</th>\n",
       "      <td>boAt</td>\n",
       "      <td>Ultima BT Calling Smartwatch</td>\n",
       "      <td>Rs. 1599</td>\n",
       "    </tr>\n",
       "    <tr>\n",
       "      <th>12</th>\n",
       "      <td>pebble</td>\n",
       "      <td>Cosmos Ultra 1.91\" BT Calling Smartwatch</td>\n",
       "      <td>Rs. 1700</td>\n",
       "    </tr>\n",
       "    <tr>\n",
       "      <th>13</th>\n",
       "      <td>Fire-Boltt</td>\n",
       "      <td>Hurricane Smartwatch</td>\n",
       "      <td>Rs. 2349</td>\n",
       "    </tr>\n",
       "    <tr>\n",
       "      <th>14</th>\n",
       "      <td>boAt</td>\n",
       "      <td>Unisex Ultima Prism Smartwatch</td>\n",
       "      <td>Rs. 3499</td>\n",
       "    </tr>\n",
       "    <tr>\n",
       "      <th>15</th>\n",
       "      <td>CMF by Nothing</td>\n",
       "      <td>Watch Pro</td>\n",
       "      <td>Rs. 1799</td>\n",
       "    </tr>\n",
       "    <tr>\n",
       "      <th>16</th>\n",
       "      <td>NOISE</td>\n",
       "      <td>Fit Posh Smartwatch</td>\n",
       "      <td>Rs. 1999</td>\n",
       "    </tr>\n",
       "    <tr>\n",
       "      <th>17</th>\n",
       "      <td>Fire-Boltt</td>\n",
       "      <td>Eclipse Luxe 1.43\" Amoled</td>\n",
       "      <td>Rs. 2249</td>\n",
       "    </tr>\n",
       "    <tr>\n",
       "      <th>18</th>\n",
       "      <td>NOISE</td>\n",
       "      <td>Mettle EliteEdition Smartwatch</td>\n",
       "      <td>Rs. 3199</td>\n",
       "    </tr>\n",
       "    <tr>\n",
       "      <th>19</th>\n",
       "      <td>Fire-Boltt</td>\n",
       "      <td>Rock AMOLED Display Smartwatch</td>\n",
       "      <td>Rs. 1999</td>\n",
       "    </tr>\n",
       "  </tbody>\n",
       "</table>\n",
       "</div>"
      ],
      "text/plain": [
       "            Brands                                      Desc     price\n",
       "0           pebble            Celia 1.32\" Display SmartWatch  Rs. 1599\n",
       "1       Fire-Boltt            Starlight Bluetooth Smartwatch  Rs. 2299\n",
       "2           pebble                   Women 1.27\" Smart Watch  Rs. 1799\n",
       "3            NOISE                       Fit Posh Smartwatch  Rs. 2349\n",
       "4             boAt                  Ultima Prism Smart Watch  Rs. 2499\n",
       "5           pebble                   Cosmos Quest Smartwatch  Rs. 1599\n",
       "6           pebble  Cosmos Ultra 1.91\" BT Calling Smartwatch  Rs. 1899\n",
       "7             boAt            Unisex Wave Genesis Smartwatch  Rs. 2299\n",
       "8           pebble                   Women 1.27\" Smart Watch  Rs. 1799\n",
       "9       Fire-Boltt                 Hulk 1.78 inch Smartwatch  Rs. 1799\n",
       "10      Fire-Boltt                 Eclipse Luxe 1.43\" Amoled  Rs. 1899\n",
       "11            boAt              Ultima BT Calling Smartwatch  Rs. 1599\n",
       "12          pebble  Cosmos Ultra 1.91\" BT Calling Smartwatch  Rs. 1700\n",
       "13      Fire-Boltt                      Hurricane Smartwatch  Rs. 2349\n",
       "14            boAt            Unisex Ultima Prism Smartwatch  Rs. 3499\n",
       "15  CMF by Nothing                                 Watch Pro  Rs. 1799\n",
       "16           NOISE                       Fit Posh Smartwatch  Rs. 1999\n",
       "17      Fire-Boltt                 Eclipse Luxe 1.43\" Amoled  Rs. 2249\n",
       "18           NOISE            Mettle EliteEdition Smartwatch  Rs. 3199\n",
       "19      Fire-Boltt            Rock AMOLED Display Smartwatch  Rs. 1999"
      ]
     },
     "execution_count": 74,
     "metadata": {},
     "output_type": "execute_result"
    }
   ],
   "source": [
    "df['Brands']=brands[0:20]\n",
    "df['Desc']=product[0:20]\n",
    "df['price']=price[0:20]\n",
    "\n",
    "df"
   ]
  },
  {
   "cell_type": "code",
   "execution_count": 85,
   "id": "3cce7b0f",
   "metadata": {},
   "outputs": [],
   "source": [
    "df.to_csv(\"myntra.csv\")"
   ]
  },
  {
   "cell_type": "code",
   "execution_count": null,
   "id": "e92f2935",
   "metadata": {},
   "outputs": [],
   "source": []
  }
 ],
 "metadata": {
  "kernelspec": {
   "display_name": "Python 3 (ipykernel)",
   "language": "python",
   "name": "python3"
  },
  "language_info": {
   "codemirror_mode": {
    "name": "ipython",
    "version": 3
   },
   "file_extension": ".py",
   "mimetype": "text/x-python",
   "name": "python",
   "nbconvert_exporter": "python",
   "pygments_lexer": "ipython3",
   "version": "3.11.5"
  }
 },
 "nbformat": 4,
 "nbformat_minor": 5
}
