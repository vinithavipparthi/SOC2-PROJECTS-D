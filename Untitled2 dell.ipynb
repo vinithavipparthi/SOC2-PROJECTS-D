{
 "cells": [
  {
   "cell_type": "code",
   "execution_count": 1,
   "id": "7219d9c6",
   "metadata": {},
   "outputs": [],
   "source": [
    "import pandas as pd\n",
    "import selenium as se\n",
    "from selenium import webdriver \n",
    "from selenium.webdriver.chrome.options import Options\n",
    "from selenium.webdriver.common.by import By\n",
    "from selenium.webdriver.common.keys import Keys\n",
    "from webdriver_manager.chrome import ChromeDriverManager\n",
    "import pandas as pd "
   ]
  },
  {
   "cell_type": "code",
   "execution_count": 2,
   "id": "9eefe0e9",
   "metadata": {},
   "outputs": [],
   "source": [
    "#define options and set browser capabilities\n",
    "options=webdriver.ChromeOptions()\n",
    "options.add_argument('- -some options')"
   ]
  },
  {
   "cell_type": "code",
   "execution_count": 3,
   "id": "efcfe1ef",
   "metadata": {},
   "outputs": [],
   "source": [
    "#create webdriver instance with options \n",
    "driver=webdriver.Chrome(options=options)"
   ]
  },
  {
   "cell_type": "code",
   "execution_count": 4,
   "id": "1d514a7b",
   "metadata": {},
   "outputs": [],
   "source": [
    "driver.get(\"https://www.amazon.in/\")"
   ]
  },
  {
   "cell_type": "code",
   "execution_count": 6,
   "id": "08423111",
   "metadata": {},
   "outputs": [],
   "source": [
    "search=driver.find_element(By.ID,\"twotabsearchtextbox\")"
   ]
  },
  {
   "cell_type": "code",
   "execution_count": 7,
   "id": "74128ea7",
   "metadata": {},
   "outputs": [],
   "source": [
    "search.send_keys(\" Top 10 Dell laptops\")"
   ]
  },
  {
   "cell_type": "code",
   "execution_count": 8,
   "id": "9732423a",
   "metadata": {},
   "outputs": [
    {
     "name": "stdout",
     "output_type": "stream",
     "text": [
      "22\n",
      "Dell 15 Laptop, Intel Core i5-1135G7 Processor/ 8GB/ 1TB+256GB SSD/15.6\"(39.62cm) FHD Display/Mobile Connect/Windows 11 + MSO'21/15 Month McAfee/Spill-Resistant Keyboard/Black/Thin & Light 1.69kg \n",
      "\n",
      "Dell 14, Intel 12th Gen i5-1235U Laptop/8GB/512GB SSD/14.0\" (35.56cm) FHD TÃœV Rheinland Certified Comfortview to Reduce Harmful Blue Light Emission/Windows 11 + MSO'21/Black/15 Month McAfee,1.48kg \n",
      "\n",
      "(Renewed) Dell Latitude Laptop E5470 Intel Core i5 6th Gen. - 6200u Processor, 8 GB Ram & 256 GB SSD, 14.1 Inches HD Screen Notebook Computer \n",
      "\n",
      "(Renewed) Dell Latitude Laptop E7480 Intel Core i5 Windows 10 Pro - 6200u Processor 6th Gen, 16 GB Ram & 256 GB SSD, 14.1 inches - Ultra Slim & Feather Light 1.37KG, Notebook Computer \n",
      "\n",
      "(Renewed) Dell Latitude Laptop E5480 Intel Core i5 7th Gen. - 7300u Processor, 8 GB Ram & 512 GB SSD, 14.1 inches Full HD Screen Notebook Computer Windows 10 Pro \n",
      "\n",
      "(Renewed) Dell Latitude Air Laptop E7280 Intel Core i5 - 6300u Processor 6th Gen, 8 GB Ram & 128 GB SSD, 12.5 inches Ultra Slim & Feather Light 1KG Notebook Computer, Windows 10 Pro \n",
      "\n",
      "(Renewed) Dell Latitude Laptop Windows 10 Pro E7470 Intel Core i5 - 6300u Processor, 8 GB Ram & 256 GB SSD, 14.1 inches Screen (Ultra Slim & Light 1.58KG) Notebook Computer \n",
      "\n",
      "Dell (Refurbished) Latitude E5470 14 Inches Laptop (Intel Core I5 6Th Gen/8Gb/256 Gb Sdd/Windows 10/Ms O \n",
      "\n",
      "Dell 15 Laptop, Intel Core i5-1135G7 Processor/ 8GB/ 1TB+256GB SSD/15.6\"(39.62cm) FHD Display/Mobile Connect/Windows 11 + MSO'21/15 Month McAfee/Spill-Resistant Keyboard/Black/Thin & Light 1.69kg \n",
      "\n",
      "Dell Latitude 5430 Laptop - 14\" HD (1366x768) AG Display - 4.4 GHz Intel Core i5-1245U 10-Core (12th Gen) - 16GB - 256GB SSD - Windows 10 Pro \n",
      "\n",
      "Lenovo ThinkPad E14 Intel Core i5 12th Gen 14\" FHD Thin and Light Laptop (8GB RAM/512GB SSD/Windows 11 Home/MS Office H&S 2021/FPR/Backlit Keyboard/Black/1.59 kg), 21E3S04X00 \n",
      "\n",
      "Lenovo Ideapad 3 AMD Ryzen 5 5500U 15.6\" (39.62cm) FHD Thin & Light Laptop (8GB/512GB SSD/Windows 11/Office 2021/Backlit Keyboard/2Yr Warranty/Arctic Grey/1.65Kg), 82KU017KIN \n",
      "\n",
      "Dell Vostro 3400 14 inches(35cm) FHD Anti Glare Display Laptop (11th Gen Intel i5-1135G7 / 8GB / 1TB / Integrated Graphics/Windows 10 + MS Office/Black/ 1.58Kg) D552154WIN9BE \n",
      "\n",
      "(Refurbished) DELL Latitude 5490 Core i5 7th Gen Laptop, 16 GB RAM, 1TB SSD, Intel HD Graphics, 14 inch (36.83 cms) HD Screen, Windows 11 (Upgraded), MS Office, Black, Slim \n",
      "\n",
      "Dell 15 Laptop, Intel 12th Gen Core i3-1215U Proc/8GB DDR4/512GB SSD/Intel UHD Graphic/15.6\" (38cm) FHD Display/Spill-Resistant Keyboard/Win11+MSO'21/15 Month McAfee/Black/Thin & Light 1.69kg \n",
      "\n",
      "(Renewed) DELL Latitude 5490 Core i5 8th Gen Laptop, 16 GB RAM, 512GB SSD, Intel HD Graphics, 14 inch (36.83 cms) HD Screen, Windows 11 (Upgraded), MS Office, Black, Slim \n",
      "\n",
      "(Refurbished) Dell Latitude Laptop E5470 Intel Core I5 6Th Gen. - 6200U Processor, 8 Gb Ram & 128 Gb Ssd \n",
      "\n",
      "DELL (Refurbished) Latitude 5580 (Core i5 7th Gen/ 8GB Ram/ 256GB SSD/Webcam/ 15.6'' Non Touch/Win-10 Pro) \n",
      "\n",
      "Dell G15-5521 Gaming Laptop,Intel Core i9-12900H Processor/ 16GB DDR5/ 1TB SSD/NVIDIA RTX 3070 Ti (8GB GDDR6)/ 15.6\" (39.62cm) QHD WVA AG 240 Hz 400 nits/Windows 11+ MSO'21/ Obsidian Black/ 2.81kg \n",
      "\n",
      "ASUS Vivobook 16X (2022), 16.0-inch (40.64 cms) FHD+ 16:10, AMD Ryzen 5 5600H, Thin and Laptop (8GB/512GB SSD/Integrated Graphics/Windows 11/Office 2021/Silver/1.80 kg), M1603QA-MB501WS \n",
      "\n",
      "HP Victus Gaming Laptop, AMD Ryzen 7 7840HS AI powered, 6GB RTX 3050 GPU, 16.1-inch (40.9 cm), 95W TGP, FHD, IPS, 144Hz, 16GB DDR5, 1TB SSD, 300 nits, RGB Backlit KB, B&O (MSO, Blue, 2.29 kg), s0094AX \n",
      "\n",
      "Acer Aspire 3 Laptop 13th Gen Intel Core i3-N305 Processor (Windows 11 Home/8 GB RAM/512 GB SSD/Intel UHD Graphics) A315-510P, 39.62 cm (15.6\") Full HD Display, Pure Silver, 1.7 KG \n",
      "\n"
     ]
    }
   ],
   "source": [
    "names=driver.find_elements(By.XPATH,\".//span[@class='a-size-medium a-color-base a-text-normal']\")\n",
    "laptop_names=[i.text for i in names]\n",
    "print(len(laptop_names))\n",
    "for al in laptop_names:\n",
    "    print(al,'\\n')"
   ]
  },
  {
   "cell_type": "code",
   "execution_count": 8,
   "id": "25d2f665",
   "metadata": {},
   "outputs": [
    {
     "name": "stdout",
     "output_type": "stream",
     "text": [
      "22\n",
      "['44,990', '46,990', '17,309', '21,499', '19,499', '20,990', '24,490', '16,400', '44,990', '1,20,000', '89,990', '1,22,990', '58,500', '25,999', '35,990', '24,370', '15,998', '24,799', '1,41,990', '48,900', '37,990', '1,24,990']\n"
     ]
    }
   ],
   "source": [
    "prices=driver.find_elements(By.XPATH,\".//span[@class='a-price-whole']\")\n",
    "laptop_prices=[i.text for i in prices]\n",
    "print(len(laptop_prices))\n",
    "print(laptop_prices)"
   ]
  },
  {
   "cell_type": "code",
   "execution_count": 9,
   "id": "ac076d15",
   "metadata": {},
   "outputs": [
    {
     "name": "stdout",
     "output_type": "stream",
     "text": [
      "21\n",
      "['633', '145', '1,549', '58', '162', '28', '77', '192', '633', '4', '74', '48', '317', '28', '208', '512', '61', '6', '1,132', '1,678', '21']\n"
     ]
    }
   ],
   "source": [
    "review=driver.find_elements(By.XPATH,\".//span[@class='a-size-base s-underline-text']\")\n",
    "laptop_review=[i.text for i in review]\n",
    "print(len(laptop_review))\n",
    "print(laptop_review)"
   ]
  },
  {
   "cell_type": "code",
   "execution_count": 10,
   "id": "f23a6171",
   "metadata": {},
   "outputs": [
    {
     "name": "stdout",
     "output_type": "stream",
     "text": [
      "Empty DataFrame\n",
      "Columns: [names, prices, reviews]\n",
      "Index: []\n"
     ]
    }
   ],
   "source": [
    "df=pd.DataFrame(columns=['names','prices','reviews'])\n",
    "print(df)"
   ]
  },
  {
   "cell_type": "code",
   "execution_count": 11,
   "id": "5809874f",
   "metadata": {},
   "outputs": [
    {
     "name": "stdout",
     "output_type": "stream",
     "text": [
      "    names    prices reviews review\n",
      "0     NaN    46,990     NaN    145\n",
      "1     NaN    17,309     NaN  1,549\n",
      "2     NaN    21,499     NaN     58\n",
      "3     NaN    19,499     NaN    162\n",
      "4     NaN    20,990     NaN     28\n",
      "5     NaN    24,490     NaN     77\n",
      "6     NaN    16,400     NaN    192\n",
      "7     NaN    44,990     NaN    633\n",
      "8     NaN  1,20,000     NaN      4\n",
      "9     NaN    89,990     NaN     74\n",
      "10    NaN  1,22,990     NaN     48\n",
      "11    NaN    58,500     NaN    317\n",
      "12    NaN    25,999     NaN     28\n",
      "13    NaN    35,990     NaN    208\n",
      "14    NaN    24,370     NaN    512\n",
      "15    NaN    15,998     NaN     61\n",
      "16    NaN    24,799     NaN      6\n",
      "17    NaN  1,41,990     NaN  1,132\n"
     ]
    }
   ],
   "source": [
    "df['names']=laptop_names[1:19]\n",
    "df['prices']=laptop_prices[1:19]\n",
    "df['review']=laptop_review[1:19]\n",
    "print(df)"
   ]
  },
  {
   "cell_type": "code",
   "execution_count": 12,
   "id": "a44512d8",
   "metadata": {},
   "outputs": [],
   "source": [
    "df.to_csv('selenium.csv')"
   ]
  }
 ],
 "metadata": {
  "kernelspec": {
   "display_name": "Python 3 (ipykernel)",
   "language": "python",
   "name": "python3"
  },
  "language_info": {
   "codemirror_mode": {
    "name": "ipython",
    "version": 3
   },
   "file_extension": ".py",
   "mimetype": "text/x-python",
   "name": "python",
   "nbconvert_exporter": "python",
   "pygments_lexer": "ipython3",
   "version": "3.11.5"
  }
 },
 "nbformat": 4,
 "nbformat_minor": 5
}
